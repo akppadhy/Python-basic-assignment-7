{
 "cells": [
  {
   "cell_type": "code",
   "execution_count": null,
   "id": "6d40fa9a-037e-4742-9b4d-dae145117b1c",
   "metadata": {},
   "outputs": [],
   "source": [
    "#1. What is the name of the feature responsible for generating Regex objects?\n",
    "\n",
    "Ans. The name of the feature responsible for generating Regex objects is re.compile() function which returns Regex objects.\n"
   ]
  },
  {
   "cell_type": "code",
   "execution_count": null,
   "id": "094045c9-ad72-4141-8ea1-59e78e11a15c",
   "metadata": {},
   "outputs": [],
   "source": [
    "#2. Why do raw strings often appear in Regex objects?\n",
    "\n",
    "Ans. Raw strings are used so that backslashes do not have to be escaped."
   ]
  },
  {
   "cell_type": "code",
   "execution_count": null,
   "id": "d3780705-5366-4437-9cb8-4539f86b3e8e",
   "metadata": {},
   "outputs": [],
   "source": [
    "#3. What is the return value of the search() method?\n",
    "\n",
    "Ans. The return value of the search() method is that it returns Match objects.The search() function searches the string for a match, \n",
    "and returns a Match object if there is a match."
   ]
  },
  {
   "cell_type": "code",
   "execution_count": 1,
   "id": "8eca00cf-7522-4a90-a420-60aac4bcaaf7",
   "metadata": {},
   "outputs": [
    {
     "name": "stdout",
     "output_type": "stream",
     "text": [
      "The first i character is located in position: 2\n"
     ]
    },
    {
     "data": {
      "text/plain": [
       "re.Match"
      ]
     },
     "execution_count": 1,
     "metadata": {},
     "output_type": "execute_result"
    }
   ],
   "source": [
    "import re\n",
    "\n",
    "data = \"This is iNeuron Full Stack Data Science Class\"\n",
    "x = re.search(\"i\", data)\n",
    "\n",
    "print(\"The first i character is located in position:\", x.start()) \n",
    "type(x)"
   ]
  },
  {
   "cell_type": "code",
   "execution_count": null,
   "id": "426ef877-2e77-4669-8849-ac4162447ae7",
   "metadata": {},
   "outputs": [],
   "source": [
    "#4. From a Match item, how do you get the actual strings that match the pattern?\n",
    "\n",
    "Ans. The group() method returns strings of the matched text."
   ]
  },
  {
   "cell_type": "code",
   "execution_count": null,
   "id": "e6ed615a-a833-430c-80c5-60441abb20c9",
   "metadata": {},
   "outputs": [],
   "source": [
    "#5. In the regex which created from the r'(\\d\\d\\d)-(\\d\\d\\d-\\d\\d\\d\\d)', what does group zero cover? Group 2? Group 1?\n",
    "\n",
    "Ans. Group 0 is the entire match, group 1 covers the first set of parentheses, and group 2 covers the second set of parentheses."
   ]
  },
  {
   "cell_type": "code",
   "execution_count": null,
   "id": "32c8d648-8237-4a40-97f9-bf61e0cce301",
   "metadata": {},
   "outputs": [],
   "source": [
    "#6. In standard expression syntax, parentheses and intervals have distinct meanings. How can you tell a regex that you want it to fit real parentheses and periods?\n",
    "\n",
    "Ans. Periods and parentheses can be escaped with a backslash: \\"
   ]
  },
  {
   "cell_type": "code",
   "execution_count": null,
   "id": "8ecf3891-b86e-4882-8483-9102456e5d24",
   "metadata": {},
   "outputs": [],
   "source": [
    "#7. The findall() method returns a string list or a list of string tuples. What causes it to return one of the two options?\n",
    "\n",
    "Ans. If the regex has no groups, a list of strings is returned. If the regex has groups, a list of tuples of strings is returned."
   ]
  },
  {
   "cell_type": "code",
   "execution_count": null,
   "id": "81102b4b-6030-4530-8f22-5837d0d33a7a",
   "metadata": {},
   "outputs": [],
   "source": [
    "#8. In standard expressions, what does the | character mean?\n",
    "\n",
    "Ans.  The | character is called a pipe. You can use it anywhere you want to match one of many expressions."
   ]
  },
  {
   "cell_type": "code",
   "execution_count": null,
   "id": "d332c66f-9998-469d-ad54-388443a18873",
   "metadata": {},
   "outputs": [],
   "source": [
    "#9. What two things does the ? character signify in regular expressions?\n",
    "\n",
    "Ans. The ? character can either mean \"match zero or one of the preceding group\" or be used to signify nongreedy matching."
   ]
  },
  {
   "cell_type": "code",
   "execution_count": null,
   "id": "3c050996-1acb-4389-948b-9257e61d2a68",
   "metadata": {},
   "outputs": [],
   "source": [
    "#10. In regular expressions, what is the difference between the + and * characters?\n",
    "\n",
    "Ans. The + matches one or more. The * matches zero or more."
   ]
  },
  {
   "cell_type": "code",
   "execution_count": null,
   "id": "c35fc004-940e-44df-b8ee-6beb19e3bc24",
   "metadata": {},
   "outputs": [],
   "source": [
    "#11. What is the difference between {4} and {4,5} in regular expression?\n",
    "\n",
    "Ans. The {3} matches exactly three instances of the preceding group.\n",
    "\n",
    "The {3,5} matches between three and five instances."
   ]
  },
  {
   "cell_type": "code",
   "execution_count": null,
   "id": "e7dfb77e-3cfd-4cba-ac9d-05b0558c9bac",
   "metadata": {},
   "outputs": [],
   "source": [
    "#12. What do you mean by the \\d, \\w, and \\s shorthand character classes signify in regular expressions?\n",
    "\n",
    "Ans. The \\d, stands for single digit, Any numeric digit from 0 to 9\n",
    "\n",
    "\\w, stands for single word, Any letter, numeric digit, or the underscore character. (Think of this as matching “word” characters.) \n",
    "\\s stands for single space character, Any space, tab, or newline character. (Think of this as matching “space” characters.)"
   ]
  },
  {
   "cell_type": "code",
   "execution_count": null,
   "id": "852ddefc-1900-4674-bec3-e990f887a490",
   "metadata": {},
   "outputs": [],
   "source": [
    "#13. What do means by \\D, \\W, and \\S shorthand character classes signify in regular expressions?\n",
    "\n",
    "Ans. \\D - > Any character that is not a numeric digit from 0 to 9.\n",
    "\n",
    "\\W - > Any character that is not a letter, numeric digit, or the underscore character.\n",
    "\\S - > Any character that is not a space, tab, or newline."
   ]
  },
  {
   "cell_type": "code",
   "execution_count": null,
   "id": "135b425d-872b-44e5-93c9-311032e9e7e4",
   "metadata": {},
   "outputs": [],
   "source": [
    "#14. What is the difference between .* and .*??\n",
    "\n",
    "Ans. The .* performs a greedy match, and the .*? performs a nongreedy match."
   ]
  },
  {
   "cell_type": "code",
   "execution_count": null,
   "id": "c7b89fc0-777c-4309-871e-5ee4e5fb59a3",
   "metadata": {},
   "outputs": [],
   "source": [
    "#15. What is the syntax for matching both numbers and lowercase letters with a character class?\n",
    "\n",
    "Ans. Either [0-9a-z] or [a-z0-9]"
   ]
  },
  {
   "cell_type": "code",
   "execution_count": null,
   "id": "efbfe020-2fba-4d20-bb2e-c42b5eda208f",
   "metadata": {},
   "outputs": [],
   "source": [
    "#16. What is the procedure for making a normal expression in regex case insensitive?\n",
    "\n",
    "Ans. Passing re.I or re.IGNORECASE as the second argument to re.compile() will make the matching case insensitive."
   ]
  },
  {
   "cell_type": "code",
   "execution_count": null,
   "id": "1360659a-932c-4393-8be5-ca4b18a3f37c",
   "metadata": {},
   "outputs": [],
   "source": [
    "#17. What does the . character normally match? What does it match if re.DOTALL is passed as 2nd argument in re.compile()?\n",
    "\n",
    "Ans. The . character normally matches any character except the newline character. If re.DOTALL is passed as the second argument to re.compile(), \n",
    "then the dot will also match newline characters.\n"
   ]
  },
  {
   "cell_type": "code",
   "execution_count": 2,
   "id": "d58c5d8f-f34f-41bb-a6f7-cc95a80d0cd7",
   "metadata": {},
   "outputs": [
    {
     "data": {
      "text/plain": [
       "'X drummers, X pipers, five rings, X hen'"
      ]
     },
     "execution_count": 2,
     "metadata": {},
     "output_type": "execute_result"
    }
   ],
   "source": [
    "#18. If numRegex = re.compile(r'\\d+'), what will numRegex.sub('X', '11 drummers, 10 pipers, five rings, 4 hen') return?\n",
    "\n",
    "numRegex = re.compile(r'\\d+')\n",
    "mo = numRegex.sub('X', '11 drummers, 10 pipers, five rings, 4 hen')\n",
    "mo"
   ]
  },
  {
   "cell_type": "code",
   "execution_count": null,
   "id": "ac23aac5-cc34-4277-99c9-c73d3dcf3567",
   "metadata": {},
   "outputs": [],
   "source": [
    "#19. What does passing re.VERBOSE as the 2nd argument to re.compile() allow to do?\n",
    "\n",
    "Ans. The re.VERBOSE argument allows you to add whitespace and comments to the string passed to re.compile()."
   ]
  },
  {
   "cell_type": "code",
   "execution_count": null,
   "id": "10225ed5-f410-40b0-a736-378b61590d48",
   "metadata": {},
   "outputs": [],
   "source": [
    "#20. How would you write a regex that match a number with comma for every three digits? It must match the given following:\n",
    "#42'\n",
    "#'1,234'\n",
    "#'6,368,745'\n",
    "#but not the following:\n",
    "#'12,34,567' (which has only two digits between the commas)\n",
    "#'1234' (which lacks commas)\n",
    "\n",
    "Ans. re.compile(r'^\\d{1,3}(,\\d{3})*$') will create this regex, but other regex strings can produce a similar regular expression."
   ]
  },
  {
   "cell_type": "code",
   "execution_count": 3,
   "id": "cd3ccd74-e053-404f-ba3d-e8044a00c01c",
   "metadata": {},
   "outputs": [
    {
     "data": {
      "text/plain": [
       "'42'"
      ]
     },
     "execution_count": 3,
     "metadata": {},
     "output_type": "execute_result"
    }
   ],
   "source": [
    "reg1 = re.compile(r'^\\d{1,3}(,\\d{3})*$')\n",
    "mo1 = reg1.search('42')\n",
    "mo1.group()\n"
   ]
  },
  {
   "cell_type": "code",
   "execution_count": 4,
   "id": "fd40510d-4b6c-422b-b977-af8bc5ebec4e",
   "metadata": {},
   "outputs": [
    {
     "data": {
      "text/plain": [
       "'1,234'"
      ]
     },
     "execution_count": 4,
     "metadata": {},
     "output_type": "execute_result"
    }
   ],
   "source": [
    "reg1 = re.compile(r'^\\d{1,3}(,\\d{3})*$')\n",
    "mo1 = reg1.search('1,234')\n",
    "mo1.group()\n",
    "     "
   ]
  },
  {
   "cell_type": "code",
   "execution_count": null,
   "id": "38111f46-0f06-4e17-95e8-91a7b145f626",
   "metadata": {},
   "outputs": [],
   "source": [
    "#21. How would you write a regex that matches the full name of someone whose last name is Watanabe? You can assume that the first name that comes before it will always be one word that begins with a capital letter. The regex must match the following:\n",
    "\n",
    "#'Haruto Watanabe'\n",
    "#'Alice Watanabe'\n",
    "#'RoboCop Watanabe'\n",
    "#but not the following:\n",
    "#'haruto Watanabe' (where the first name is not capitalized)\n",
    "#'Mr. Watanabe' (where the preceding word has a nonletter character)\n",
    "#'Watanabe' (which has no first name)\n",
    "#'Haruto watanabe' (where Watanabe is not capitalized)\n",
    "\n",
    "Ans. re.compile(r'[A-Z][a-z]*\\sNakamoto')\n"
   ]
  },
  {
   "cell_type": "code",
   "execution_count": 6,
   "id": "34097485-4661-4c05-a370-c908774a1053",
   "metadata": {},
   "outputs": [
    {
     "data": {
      "text/plain": [
       "'Haruto Watanabe'"
      ]
     },
     "execution_count": 6,
     "metadata": {},
     "output_type": "execute_result"
    }
   ],
   "source": [
    "name = re.compile(r'[A-Z][a-z]*\\sWatanabe')\n",
    "reg1 = re.compile(r'^\\d{1,3}(,\\d{haruto Watanabe3})*$')\n",
    "mo1 = name.search('Haruto Watanabe')\n",
    "mo1.group()"
   ]
  },
  {
   "cell_type": "code",
   "execution_count": 5,
   "id": "2b42ae34-158e-47a1-97f0-6e9f742302ce",
   "metadata": {},
   "outputs": [
    {
     "data": {
      "text/plain": [
       "'Alice Watanabe'"
      ]
     },
     "execution_count": 5,
     "metadata": {},
     "output_type": "execute_result"
    }
   ],
   "source": [
    "name = re.compile(r'[A-Z][a-z]*\\sWatanabe')\n",
    "reg1 = re.compile(r'^\\d{1,3}(,\\d{3})*$')\n",
    "mo1 = name.search('Alice Watanabe')\n",
    "mo1.group()"
   ]
  },
  {
   "cell_type": "code",
   "execution_count": null,
   "id": "9e143335-dc68-41ae-869b-9d45fd842188",
   "metadata": {},
   "outputs": [],
   "source": [
    "#22. How would you write a regex that matches a sentence where the first word is either Alice, Bob, or Carol; the second word is either eats, pets, or throws; the third word is apples, cats, or baseballs; and the sentence ends with a period? This regex should be case-insensitive. It must match the following:\n",
    "\n",
    "#'Alice eats apples.'\n",
    "#'Bob pets cats.'\n",
    "#'Carol throws baseballs.'\n",
    "#'Alice throws Apples.'\n",
    "#'BOB EATS CATS.'\n",
    "#but not the following:\n",
    "#'RoboCop eats apples.'\n",
    "#'ALICE THROWS FOOTBALLS.'\n",
    "#'Carol eats 7 cats.'\n",
    "\n",
    "Ans. re.compile(r'(Alice|Bob|Carol)\\s(eats|pets|throws)\\s(apples|cats|baseballs).', re.IGNORECASE)\n"
   ]
  },
  {
   "cell_type": "code",
   "execution_count": 7,
   "id": "6953ccbc-0064-4745-9b88-7b26804dd01d",
   "metadata": {},
   "outputs": [
    {
     "data": {
      "text/plain": [
       "'Alice eats apples.'"
      ]
     },
     "execution_count": 7,
     "metadata": {},
     "output_type": "execute_result"
    }
   ],
   "source": [
    "name = re.compile(r'(Alice|Bob|Carol)\\s(eats|pets|throws)\\s(apples|cats|baseballs)\\.', re.IGNORECASE)\n",
    "\n",
    "mo1 = name.search('Alice eats apples.')\n",
    "mo1.group()"
   ]
  },
  {
   "cell_type": "code",
   "execution_count": 8,
   "id": "ff2e44c3-807a-48de-858b-c5978d4a95af",
   "metadata": {},
   "outputs": [
    {
     "data": {
      "text/plain": [
       "'Carol throws baseballs.'"
      ]
     },
     "execution_count": 8,
     "metadata": {},
     "output_type": "execute_result"
    }
   ],
   "source": [
    "name = re.compile(r'(Alice|Bob|Carol)\\s(eats|pets|throws)\\s(apples|cats|baseballs)\\.', re.IGNORECASE)\n",
    "\n",
    "mo1 = name.search('Carol throws baseballs.')\n",
    "mo1.group()"
   ]
  }
 ],
 "metadata": {
  "kernelspec": {
   "display_name": "Python 3 (ipykernel)",
   "language": "python",
   "name": "python3"
  },
  "language_info": {
   "codemirror_mode": {
    "name": "ipython",
    "version": 3
   },
   "file_extension": ".py",
   "mimetype": "text/x-python",
   "name": "python",
   "nbconvert_exporter": "python",
   "pygments_lexer": "ipython3",
   "version": "3.10.6"
  }
 },
 "nbformat": 4,
 "nbformat_minor": 5
}
